{
 "cells": [
  {
   "cell_type": "code",
   "execution_count": 4,
   "id": "be734e1f",
   "metadata": {},
   "outputs": [
    {
     "name": "stdout",
     "output_type": "stream",
     "text": [
      "a 1\n",
      "b 2\n",
      "c 3\n",
      "d 4\n",
      "e 5\n",
      "f 6\n",
      "g 7\n",
      "h 8\n",
      "i 9\n",
      "j 10\n",
      "k 11\n",
      "l 12\n",
      "m 13\n",
      "n 14\n",
      "o 15\n",
      "p 16\n",
      "q 17\n",
      "r 18\n",
      "s 19\n",
      "t 20\n",
      "u 21\n",
      "v 22\n",
      "w 23\n",
      "x 24\n",
      "y 25\n",
      "z 26\n",
      "\n",
      "\n",
      "A 27\n",
      "B 28\n",
      "C 29\n",
      "D 30\n",
      "E 31\n",
      "F 32\n",
      "G 33\n",
      "H 34\n",
      "I 35\n",
      "J 36\n",
      "K 37\n",
      "L 38\n",
      "M 39\n",
      "N 40\n",
      "O 41\n",
      "P 42\n",
      "Q 43\n",
      "R 44\n",
      "S 45\n",
      "T 46\n",
      "U 47\n",
      "V 48\n",
      "W 49\n",
      "X 50\n",
      "Y 51\n",
      "Z 52\n"
     ]
    }
   ],
   "source": [
    "for n in range(26):\n",
    "    char = chr(ord('a')+n)\n",
    "    Number =ord('a')+n - 96\n",
    "    print(char + \" \" + str(Number))\n",
    "\n",
    "print('\\n')\n",
    "    \n",
    "for N in range(26):\n",
    "    chars = chr(ord('A')+N)\n",
    "    Numbers =ord('A')+N -38\n",
    "    print(chars + \" \" + str(Numbers))\n",
    "    "
   ]
  },
  {
   "cell_type": "code",
   "execution_count": 10,
   "id": "2a410830",
   "metadata": {},
   "outputs": [
    {
     "name": "stdout",
     "output_type": "stream",
     "text": [
      "{'a': 1, 'b': 2, 'c': 3, 'd': 4, 'e': 5, 'f': 6, 'g': 7, 'h': 8, 'i': 9, 'j': 10, 'k': 11, 'l': 12, 'm': 13, 'n': 14, 'o': 15, 'p': 16, 'q': 17, 'r': 18, 's': 19, 't': 20, 'u': 21, 'v': 22, 'w': 23, 'x': 24, 'y': 25, 'z': 26, 'A': 27, 'B': 28, 'C': 29, 'D': 30, 'E': 31, 'F': 32, 'G': 33, 'H': 34, 'I': 35, 'J': 36, 'K': 37, 'L': 38, 'M': 39, 'N': 40, 'O': 41, 'P': 42, 'Q': 43, 'R': 44, 'S': 45, 'T': 46, 'U': 47, 'V': 48, 'W': 49, 'X': 50, 'Y': 51, 'Z': 52}\n"
     ]
    }
   ],
   "source": [
    "values = {}\n",
    "\n",
    "for n in range(26):\n",
    "    char = chr(ord('a')+n)\n",
    "    Number =ord('a')+n - 96\n",
    "    #print(char + \" \" + str(Number))\n",
    "    new = {char : Number}\n",
    "    values.update(new)\n",
    "\n",
    "for N in range(26):\n",
    "    chars = chr(ord('A')+N)\n",
    "    Numbers =ord('A')+N -38\n",
    "    #print(chars + \" \" + str(Numbers))\n",
    "    new = {chars : Numbers}\n",
    "    values.update(new)\n",
    "    \n",
    "print(values)\n",
    "\n"
   ]
  },
  {
   "cell_type": "code",
   "execution_count": 29,
   "id": "1b7ae927",
   "metadata": {},
   "outputs": [
    {
     "name": "stdout",
     "output_type": "stream",
     "text": [
      "25\n"
     ]
    }
   ],
   "source": [
    "file = open('demo','r')\n",
    "strings = file.readlines()\n",
    "\n",
    "print(len(strings[0]))\n",
    "for n in range(len(strings)):\n",
    "    half = int(len(strings[n])/2)\n",
    "    for i in range(len(strings[n])):\n",
    "        continue\n",
    "        "
   ]
  },
  {
   "cell_type": "code",
   "execution_count": 19,
   "id": "fff01e1f",
   "metadata": {},
   "outputs": [
    {
     "name": "stdout",
     "output_type": "stream",
     "text": [
      "vJrw\n",
      "pWtwJgWrhcsFMMfFFhFp\n",
      "\n",
      "20\n",
      "this is halfjqHRNqRjqz\n",
      "jGDLGLrsFMfFZSrLrFZsSL\n",
      "\n",
      "22\n",
      "this is halfPmmdzqPrVvP\n",
      "wwTWBwg\n",
      "\n",
      "7\n",
      "this is halfwMq\n",
      "vLMZHhHMvwLHjbvcjnnSBnvTQFn\n",
      "\n",
      "27\n",
      "this is halfttgJtRGJQctTZ\n",
      "tZT\n",
      "\n",
      "3\n",
      "this is halfC\n",
      "rZsJsPPZsGzwwsLwLmpwMDw\n",
      "\n",
      "23\n",
      "this is half\n"
     ]
    }
   ],
   "source": [
    "file = open('demo','r')\n",
    "\n",
    "print(file.read(4))\n",
    "\n",
    "for n in file:\n",
    "    print(n)\n",
    "    print(len(n)-1)\n",
    "    index = (len(n)-1)/2\n",
    "    half = file.read(int(index))\n",
    "    print(\"this is half\" + half)\n",
    "    "
   ]
  },
  {
   "cell_type": "code",
   "execution_count": 50,
   "id": "1d013890",
   "metadata": {},
   "outputs": [
    {
     "name": "stdout",
     "output_type": "stream",
     "text": [
      "7826\n"
     ]
    }
   ],
   "source": [
    "file = open('3/input','r')\n",
    "strings = file.readlines() #strings is a list\n",
    "\n",
    "#print(strings)\n",
    "both=[]\n",
    "\n",
    "for i in range(len(strings)):\n",
    "    half = int((len(strings[i])-1)/2)\n",
    "    count=0\n",
    "    for j in range(half):\n",
    "        for k in range(half):\n",
    "            if strings[i][j] == strings[i][k+half]:\n",
    "                count+=1\n",
    "                if count==1:\n",
    "                    #print(strings[i][j])\n",
    "                    both.append(strings[i][j])\n",
    "                \n",
    "#print(both)\n",
    "\n",
    "values = {}\n",
    "\n",
    "for n in range(26):\n",
    "    char = chr(ord('a')+n)\n",
    "    Number =ord('a')+n - 96\n",
    "    #print(char + \" \" + str(Number))\n",
    "    new = {char : Number}\n",
    "    values.update(new)\n",
    "\n",
    "for N in range(26):\n",
    "    chars = chr(ord('A')+N)\n",
    "    Numbers =ord('A')+N -38\n",
    "    #print(chars + \" \" + str(Numbers))\n",
    "    new = {chars : Numbers}\n",
    "    values.update(new)\n",
    "\n",
    "addition=0\n",
    "for add in both:\n",
    "    addition += values[add]\n",
    "    \n",
    "print(addition)\n",
    "    "
   ]
  },
  {
   "cell_type": "code",
   "execution_count": 31,
   "id": "74629873",
   "metadata": {},
   "outputs": [
    {
     "name": "stdout",
     "output_type": "stream",
     "text": [
      "['vJrwpWtwJgWrhcsFMMfFFhFp\\n', 'jqHRNqRjqzjGDLGLrsFMfFZSrLrFZsSL\\n', 'PmmdzqPrVvPwwTWBwg\\n', 'wMqvLMZHhHMvwLHjbvcjnnSBnvTQFn\\n', 'ttgJtRGJQctTZtZT\\n', 'CrZsJsPPZsGzwwsLwLmpwMDw\\n']\n",
      "12\n"
     ]
    }
   ],
   "source": [
    "file = open('3/demo','r')\n",
    "strings = file.readlines()\n",
    "print(strings[0])\n",
    "\n",
    "print(int((len(strings[0])-1)/2))"
   ]
  },
  {
   "cell_type": "code",
   "execution_count": null,
   "id": "79c79b8b",
   "metadata": {},
   "outputs": [],
   "source": []
  }
 ],
 "metadata": {
  "kernelspec": {
   "display_name": "Python 3 (ipykernel)",
   "language": "python",
   "name": "python3"
  },
  "language_info": {
   "codemirror_mode": {
    "name": "ipython",
    "version": 3
   },
   "file_extension": ".py",
   "mimetype": "text/x-python",
   "name": "python",
   "nbconvert_exporter": "python",
   "pygments_lexer": "ipython3",
   "version": "3.9.12"
  }
 },
 "nbformat": 4,
 "nbformat_minor": 5
}
